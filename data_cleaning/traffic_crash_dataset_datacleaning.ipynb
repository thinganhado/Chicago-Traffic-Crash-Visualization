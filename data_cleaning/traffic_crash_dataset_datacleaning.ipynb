{
  "cells": [
    {
      "cell_type": "code",
      "execution_count": null,
      "metadata": {
        "id": "dKi5wJv7BnFg"
      },
      "outputs": [],
      "source": [
        "import pandas as pd\n",
        "from google.colab import files"
      ]
    },
    {
      "cell_type": "code",
      "execution_count": null,
      "metadata": {
        "id": "dAzMVlt1Bv1D"
      },
      "outputs": [],
      "source": [
        "crashes = pd.read_excel('Traffic_Crashes_-_Crashes.xlsx')\n",
        "vehicles = pd.read_csv('Traffic_Crashes_-_Vehicles.csv')\n",
        "people = pd.read_csv('Traffic_Crashes_-_People.csv')"
      ]
    },
    {
      "cell_type": "code",
      "execution_count": null,
      "metadata": {
        "id": "BJN1_ZQkQCHr",
        "outputId": "f0ed225d-b43b-483a-cac9-ac2ad9448b6d",
        "colab": {
          "base_uri": "https://localhost:8080/"
        }
      },
      "outputs": [
        {
          "output_type": "stream",
          "name": "stdout",
          "text": [
            "<class 'pandas.core.frame.DataFrame'>\n",
            "RangeIndex: 880397 entries, 0 to 880396\n",
            "Data columns (total 33 columns):\n",
            " #   Column                         Non-Null Count   Dtype         \n",
            "---  ------                         --------------   -----         \n",
            " 0   CRASH_RECORD_ID                880397 non-null  object        \n",
            " 1   CRASH_DATE                     880397 non-null  datetime64[ns]\n",
            " 2   POSTED_SPEED_LIMIT             880397 non-null  int64         \n",
            " 3   TRAFFIC_CONTROL_DEVICE         880397 non-null  object        \n",
            " 4   DEVICE_CONDITION               880397 non-null  object        \n",
            " 5   WEATHER_CONDITION              880397 non-null  object        \n",
            " 6   LIGHTING_CONDITION             880397 non-null  object        \n",
            " 7   FIRST_CRASH_TYPE               880397 non-null  object        \n",
            " 8   TRAFFICWAY_TYPE                880397 non-null  object        \n",
            " 9   ALIGNMENT                      880397 non-null  object        \n",
            " 10  ROADWAY_SURFACE_COND           880397 non-null  object        \n",
            " 11  ROAD_DEFECT                    880397 non-null  object        \n",
            " 12  REPORT_TYPE                    853355 non-null  object        \n",
            " 13  CRASH_TYPE                     880397 non-null  object        \n",
            " 14  HIT_AND_RUN_I                  276057 non-null  object        \n",
            " 15  DAMAGE                         880397 non-null  object        \n",
            " 16  DATE_POLICE_NOTIFIED           880397 non-null  datetime64[ns]\n",
            " 17  PRIM_CONTRIBUTORY_CAUSE        880397 non-null  object        \n",
            " 18  SEC_CONTRIBUTORY_CAUSE         880397 non-null  object        \n",
            " 19  MOST_SEVERE_INJURY             878441 non-null  object        \n",
            " 20  INJURIES_TOTAL                 878455 non-null  float64       \n",
            " 21  INJURIES_FATAL                 878455 non-null  float64       \n",
            " 22  INJURIES_INCAPACITATING        878455 non-null  float64       \n",
            " 23  INJURIES_NON_INCAPACITATING    878455 non-null  float64       \n",
            " 24  INJURIES_REPORTED_NOT_EVIDENT  878455 non-null  float64       \n",
            " 25  INJURIES_NO_INDICATION         878455 non-null  float64       \n",
            " 26  INJURIES_UNKNOWN               878455 non-null  float64       \n",
            " 27  CRASH_HOUR                     880397 non-null  int64         \n",
            " 28  CRASH_DAY_OF_WEEK              880397 non-null  int64         \n",
            " 29  CRASH_MONTH                    880397 non-null  int64         \n",
            " 30  LATITUDE                       874124 non-null  float64       \n",
            " 31  LONGITUDE                      874124 non-null  float64       \n",
            " 32  LOCATION                       874124 non-null  object        \n",
            "dtypes: datetime64[ns](2), float64(9), int64(4), object(18)\n",
            "memory usage: 221.7+ MB\n",
            "None\n",
            "<class 'pandas.core.frame.DataFrame'>\n",
            "RangeIndex: 1048575 entries, 0 to 1048574\n",
            "Data columns (total 17 columns):\n",
            " #   Column               Non-Null Count    Dtype  \n",
            "---  ------               --------------    -----  \n",
            " 0   CRASH_UNIT_ID        1048575 non-null  int64  \n",
            " 1   CRASH_RECORD_ID      1048575 non-null  object \n",
            " 2   CRASH_DATE           1048575 non-null  object \n",
            " 3   UNIT_NO              1048575 non-null  int64  \n",
            " 4   UNIT_TYPE            1047303 non-null  object \n",
            " 5   VEHICLE_ID           1025616 non-null  float64\n",
            " 6   MAKE                 1025616 non-null  object \n",
            " 7   MODEL                1025609 non-null  object \n",
            " 8   LIC_PLATE_STATE      928758 non-null   object \n",
            " 9   VEHICLE_YEAR         861129 non-null   float64\n",
            " 10  VEHICLE_DEFECT       1025616 non-null  object \n",
            " 11  VEHICLE_TYPE         1025616 non-null  object \n",
            " 12  VEHICLE_USE          1025616 non-null  object \n",
            " 13  TRAVEL_DIRECTION     1025616 non-null  object \n",
            " 14  MANEUVER             1025616 non-null  object \n",
            " 15  OCCUPANT_CNT         1025616 non-null  float64\n",
            " 16  FIRST_CONTACT_POINT  1025344 non-null  object \n",
            "dtypes: float64(3), int64(2), object(12)\n",
            "memory usage: 136.0+ MB\n",
            "None\n",
            "<class 'pandas.core.frame.DataFrame'>\n",
            "RangeIndex: 1937838 entries, 0 to 1937837\n",
            "Data columns (total 29 columns):\n",
            " #   Column                 Dtype  \n",
            "---  ------                 -----  \n",
            " 0   PERSON_ID              object \n",
            " 1   PERSON_TYPE            object \n",
            " 2   CRASH_RECORD_ID        object \n",
            " 3   VEHICLE_ID             float64\n",
            " 4   CRASH_DATE             object \n",
            " 5   SEAT_NO                float64\n",
            " 6   CITY                   object \n",
            " 7   STATE                  object \n",
            " 8   ZIPCODE                object \n",
            " 9   SEX                    object \n",
            " 10  AGE                    float64\n",
            " 11  DRIVERS_LICENSE_STATE  object \n",
            " 12  DRIVERS_LICENSE_CLASS  object \n",
            " 13  SAFETY_EQUIPMENT       object \n",
            " 14  AIRBAG_DEPLOYED        object \n",
            " 15  EJECTION               object \n",
            " 16  INJURY_CLASSIFICATION  object \n",
            " 17  HOSPITAL               object \n",
            " 18  EMS_AGENCY             object \n",
            " 19  EMS_RUN_NO             object \n",
            " 20  DRIVER_ACTION          object \n",
            " 21  DRIVER_VISION          object \n",
            " 22  PHYSICAL_CONDITION     object \n",
            " 23  PEDPEDAL_ACTION        object \n",
            " 24  PEDPEDAL_VISIBILITY    object \n",
            " 25  PEDPEDAL_LOCATION      object \n",
            " 26  BAC_RESULT             object \n",
            " 27  BAC_RESULT VALUE       float64\n",
            " 28  CELL_PHONE_USE         object \n",
            "dtypes: float64(4), object(25)\n",
            "memory usage: 428.8+ MB\n",
            "None\n"
          ]
        }
      ],
      "source": [
        "# Define a function to clean each dataset\n",
        "def clean_data(df):\n",
        "    # Drop duplicates\n",
        "    df_cleaned = df.drop_duplicates()\n",
        "\n",
        "    # Drop rows where more than 10% of the columns are missing\n",
        "    threshold = df.shape[1] * 0.1  # Set threshold at 10% of the total columns\n",
        "    df_cleaned = df_cleaned.dropna(thresh=threshold)\n",
        "\n",
        "    return df_cleaned\n",
        "\n",
        "# Apply the cleaning function to each dataset\n",
        "crashes_cleaned = clean_data(crashes)\n",
        "vehicles_cleaned = clean_data(vehicles)\n",
        "people_cleaned = clean_data(people)\n",
        "\n",
        "# Optional: display basic info of cleaned datasets\n",
        "print(crashes_cleaned.info())\n",
        "print(vehicles_cleaned.info())\n",
        "print(people_cleaned.info())"
      ]
    },
    {
      "cell_type": "code",
      "execution_count": null,
      "metadata": {
        "id": "slxymV2yQEat",
        "colab": {
          "base_uri": "https://localhost:8080/"
        },
        "outputId": "e81ec73d-977e-4fb8-b435-b520ceaaa547"
      },
      "outputs": [
        {
          "output_type": "stream",
          "name": "stdout",
          "text": [
            "(293466, 33)\n",
            "(348750, 17)\n",
            "(644932, 29)\n"
          ]
        }
      ],
      "source": [
        "# Function to downsample datasets while preserving common CRASH_RECORD_IDs\n",
        "def downsample_by_crash_id(crashes_df, vehicles_df, people_df):\n",
        "    # Keep only every 3rd row in crashes_df\n",
        "    downsized_crashes = crashes_df.iloc[::3]\n",
        "\n",
        "    # Filter vehicles and people based on the CRASH_RECORD_IDs in the downsized crashes_df\n",
        "    downsized_vehicles = vehicles_df[vehicles_df['CRASH_RECORD_ID'].isin(downsized_crashes['CRASH_RECORD_ID'])]\n",
        "    downsized_people = people_df[people_df['CRASH_RECORD_ID'].isin(downsized_crashes['CRASH_RECORD_ID'])]\n",
        "\n",
        "    return downsized_crashes, downsized_vehicles, downsized_people\n",
        "\n",
        "# Apply downsampling to your datasets\n",
        "crashes_downsampled, vehicles_downsampled, people_downsampled = downsample_by_crash_id(crashes_cleaned, vehicles_cleaned, people_cleaned)\n",
        "\n",
        "# Optional: Check results by printing the shapes of the downsized dataframes\n",
        "print(crashes_downsampled.shape)\n",
        "print(vehicles_downsampled.shape)\n",
        "print(people_downsampled.shape)"
      ]
    },
    {
      "cell_type": "code",
      "source": [
        "# Export the cleaned and downsized DataFrames to CSV files\n",
        "\n",
        "crashes_downsampled.to_csv('crashes_downsampled.csv', index=False)\n",
        "vehicles_downsampled.to_csv('vehicles_downsampled.csv', index=False)\n",
        "people_downsampled.to_csv('people_downsampled.csv', index=False)\n",
        "\n",
        "print(\"Files exported successfully!\")"
      ],
      "metadata": {
        "colab": {
          "base_uri": "https://localhost:8080/"
        },
        "id": "wmfcmZn-TaGr",
        "outputId": "324d1a39-b52b-469e-96ff-cf8181eacc32"
      },
      "execution_count": null,
      "outputs": [
        {
          "output_type": "stream",
          "name": "stdout",
          "text": [
            "Files exported successfully!\n"
          ]
        }
      ]
    }
  ],
  "metadata": {
    "colab": {
      "provenance": []
    },
    "kernelspec": {
      "display_name": "Python 3",
      "name": "python3"
    },
    "language_info": {
      "name": "python"
    }
  },
  "nbformat": 4,
  "nbformat_minor": 0
}